{
 "cells": [
  {
   "cell_type": "code",
   "execution_count": 4,
   "id": "0aaf2306",
   "metadata": {},
   "outputs": [
    {
     "name": "stdout",
     "output_type": "stream",
     "text": [
      "enter the stringEdyoda\n",
      "the reverse of the string is : adoydE\n"
     ]
    }
   ],
   "source": [
    " n=input(\"enter the string\")\n",
    " print(\"the reverse of the string is :\",n[::-1])"
   ]
  },
  {
   "cell_type": "code",
   "execution_count": null,
   "id": "53b4aacb",
   "metadata": {},
   "outputs": [],
   "source": []
  },
  {
   "cell_type": "code",
   "execution_count": null,
   "id": "4e292c21",
   "metadata": {},
   "outputs": [],
   "source": []
  }
 ],
 "metadata": {
  "kernelspec": {
   "display_name": "Python 3 (ipykernel)",
   "language": "python",
   "name": "python3"
  },
  "language_info": {
   "codemirror_mode": {
    "name": "ipython",
    "version": 3
   },
   "file_extension": ".py",
   "mimetype": "text/x-python",
   "name": "python",
   "nbconvert_exporter": "python",
   "pygments_lexer": "ipython3",
   "version": "3.10.9"
  }
 },
 "nbformat": 4,
 "nbformat_minor": 5
}
